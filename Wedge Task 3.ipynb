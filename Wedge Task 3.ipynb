{
 "cells": [
  {
   "cell_type": "code",
   "execution_count": 1,
   "id": "af36293b",
   "metadata": {},
   "outputs": [],
   "source": [
    "#Import necessary packages\n",
    "from google.cloud import bigquery\n",
    "from google.oauth2 import service_account\n",
    "import random\n",
    "import sqlite3"
   ]
  },
  {
   "cell_type": "code",
   "execution_count": 2,
   "id": "ea0aa0aa",
   "metadata": {},
   "outputs": [],
   "source": [
    "#Set environmental varaible to get credentials\n",
    "import os\n",
    "os.environ[\"GOOGLE_APPLICATION_CREDENTIALS\"]=\"C:/Users/jackc/OneDrive/Documents/MSBA/Applied Data Analytics/Wedge/cloughwedge2021-3249989ff592.json\""
   ]
  },
  {
   "cell_type": "code",
   "execution_count": 3,
   "id": "0ce2b173",
   "metadata": {},
   "outputs": [],
   "source": [
    "#Connect Pyhton to my GBQ project\n",
    "client = bigquery.Client(project = 'cloughwedge2021')\n",
    "gbq_proj_id = \"cloughwedge2021\""
   ]
  },
  {
   "cell_type": "code",
   "execution_count": 4,
   "id": "6a68c07b",
   "metadata": {},
   "outputs": [],
   "source": [
    "#Sales by date by hour\n",
    "\n",
    "#Creating the first query. The goal is to query sales per hour for each calendar day. Additionally, we want\n",
    "#the amount sold in each hour of each day, as well as the amount of transactions and amount of items sold.\n",
    "#In the line where we get the amount of transactions, we want each transaction for distinct dates, register numbers,\n",
    "#employee numbers, and transaction numbers all together.\n",
    "sales_date_hour = '''SELECT (EXTRACT(DATE FROM DateTime)) AS Date,\n",
    "    (EXTRACT(HOUR FROM DateTime)) AS Hour,\n",
    "    ROUND(SUM(Total),2) as Sales,\n",
    "    COUNT(DISTINCT(Date(DateTime) || Register_Num || Emp_Num || Trans_Num)) AS Transactions,\n",
    "    SUM(CASE WHEN(Trans_Status = 'V' OR Trans_Status = 'R') THEN -1 ELSE 1 END) as Items\n",
    "    FROM `cloughwedge2021.cloughwedge2021.transArchive*`\n",
    "    \n",
    "    WHERE Card_No != 3\n",
    "    AND Department != 0\n",
    "    AND Department != 15\n",
    "    AND Trans_Status != 'M'\n",
    "    AND Trans_Status != 'C'\n",
    "    AND Trans_Status != 'J'\n",
    "    AND (Trans_Status = ''\n",
    "    OR Trans_Status = ' '\n",
    "    OR Trans_Status = 'V'\n",
    "    OR Trans_Status = 'R')\n",
    "    GROUP BY Date, Hour\n",
    "    ORDER BY Date, Hour'''\n",
    "date_by_hour = client.query(sales_date_hour,location=\"US\")"
   ]
  },
  {
   "cell_type": "code",
   "execution_count": 5,
   "id": "0a3d06a9",
   "metadata": {},
   "outputs": [],
   "source": [
    "#Define the headers, giving each queried variable a place to go\n",
    "headers = [\"Date\",\"Hour\",\"Sales\",\"Transactions\",\"Items\"]"
   ]
  },
  {
   "cell_type": "code",
   "execution_count": 6,
   "id": "5a447673",
   "metadata": {},
   "outputs": [],
   "source": [
    "#Create a file to write our results to. It will iterate over each row in the query results and write them to the file\n",
    "with open(\"sales_date_hour.txt\", 'w', encoding = 'utf-8') as outfile:\n",
    "    outfile.write(\",\".join(headers) + \"\\n\")\n",
    "    for row in date_by_hour:\n",
    "         outfile.write(\",\".join([str(item) for item in row])+ '\\n')"
   ]
  },
  {
   "cell_type": "code",
   "execution_count": 7,
   "id": "2b20c18b",
   "metadata": {},
   "outputs": [],
   "source": [
    "#Create and connect to our database in SQLite.\n",
    "#A cursor is \"an opaque base64-encoded string marking the index position of the last result retrieved\", so basically\n",
    "#a way of indexing a database/query\n",
    "db = sqlite3.connect(\"WedgeTask3.db\")\n",
    "c = db.cursor()"
   ]
  },
  {
   "cell_type": "code",
   "execution_count": 8,
   "id": "52a50397",
   "metadata": {},
   "outputs": [],
   "source": [
    "input_file = \"sales_date_hour.txt\"\n",
    "\n",
    "#Here we create our sales by day by hour. The cursor object is required to do any of these things.\n",
    "#We start with dropping a table if it already exists, as you do in SQL. We create a table with the variables we need\n",
    "#and then write them to the file we created and wrote to earlier. \n",
    "c.execute('''DROP TABLE IF EXISTS Daily_Hourly_Sales''')\n",
    "\n",
    "c.execute('''CREATE TABLE Daily_Hourly_Sales (\n",
    "    Date TIMESTAMP,\n",
    "    Hour TIMESTAMP,\n",
    "    Sales REAL,\n",
    "    Transactions INTEGER,\n",
    "    Items INTEGER)''')\n",
    "\n",
    "#There are 5 comma separated values in each line of our query results. This loop will add each of those values\n",
    "#to the appropriate position in our text file. Once it reaches the end of a line, it will go to the next line and\n",
    "#add each value to the appropriate spot again (dates are the first index position, hour is the second, etc.)\n",
    "with open(input_file, 'r', encoding = 'utf-8') as infile:\n",
    "    for idx,line in enumerate(infile.readlines()):\n",
    "        line = line.strip().split(',')\n",
    "        c.execute('''\n",
    "        INSERT INTO Daily_Hourly_Sales (Date, Hour, Sales, Transactions, Items)\n",
    "        VALUES (?,?,?,?,?)''', line)\n",
    "        \n",
    "\n",
    "#This will commit the text file to a database table       \n",
    "db.commit()"
   ]
  },
  {
   "cell_type": "code",
   "execution_count": 9,
   "id": "6565c28c",
   "metadata": {},
   "outputs": [],
   "source": [
    "#Sales by owner by year by month\n",
    "\n",
    "#Create a table that exludes certain values with !=. Group By will put all of our results together by \n",
    "#owner ID, the year of the transaction, and the month. Thus, we get sales by owner by year by month.\n",
    "#We also want to exclude values listed with a transaction status of member dsicounts, coupons, or juice club cards\n",
    "#because those are not transactions, they're just details of disounts. That ensures we are only left with\n",
    "#typical value transactions, voids, or returns.\n",
    "\n",
    "query_owner_year_month = '''SELECT Card_No as Owner_ID,\n",
    "    (EXTRACT(Year FROM DateTime)) AS Year,\n",
    "    (EXTRACT(Month FROM DateTime)) AS Month,\n",
    "    ROUND(SUM(Total),2) as Sales,\n",
    "    COUNT(DISTINCT(Date(DateTime) || Register_Num || Emp_Num || Trans_Num)) AS Transactions,\n",
    "    SUM(CASE WHEN(Trans_Status = 'V' OR Trans_Status = 'R') THEN -1 ELSE 1 END) as Items\n",
    "    FROM `cloughwedge2021.cloughwedge2021.transArchive*`\n",
    "\n",
    "    WHERE Department != 0\n",
    "    AND Department != 15\n",
    "    AND Trans_Status != 'M'\n",
    "    AND Trans_Status != 'C'\n",
    "    AND Trans_Status != 'J'\n",
    "    AND (Trans_Status = ''\n",
    "    OR Trans_Status = ' '\n",
    "    OR Trans_Status = 'V'\n",
    "    OR Trans_Status = 'R')\n",
    "    GROUP BY Card_No, Year, Month\n",
    "    ORDER BY Card_No, Year, Month'''\n",
    "\n",
    "owner_year_month = client.query(query_owner_year_month,location=\"US\")"
   ]
  },
  {
   "cell_type": "code",
   "execution_count": 10,
   "id": "484fe02b",
   "metadata": {},
   "outputs": [],
   "source": [
    "headers = [\"Owner_ID\",\"Year\",\"Month\",\"Sales\",\"Transactions\",\"Items\"]"
   ]
  },
  {
   "cell_type": "code",
   "execution_count": 11,
   "id": "d22c6904",
   "metadata": {},
   "outputs": [],
   "source": [
    "with open(\"sales_owner_year_month.txt\", 'w', encoding = 'utf-8') as outfile:\n",
    "    outfile.write(\",\".join(headers) + \"\\n\")\n",
    "    for row in owner_year_month:\n",
    "         outfile.write(\",\".join([str(item) for item in row])+ '\\n')"
   ]
  },
  {
   "cell_type": "code",
   "execution_count": 12,
   "id": "536510f7",
   "metadata": {},
   "outputs": [],
   "source": [
    "input_file2 = \"sales_owner_year_month.txt\"\n",
    "\n",
    "c.execute('''DROP TABLE IF EXISTS yearly_monthly_sales_by_owner''')\n",
    "\n",
    "c.execute('''CREATE TABLE yearly_monthly_sales_by_owner (\n",
    "    Owner_ID INTEGER,\n",
    "    Year TIMESTAMP,\n",
    "    Month TIMESTAMP,\n",
    "    Sales REAL,\n",
    "    Transactions INTEGER,\n",
    "    Items INTEGER)''')\n",
    "\n",
    "with open(input_file2, 'r', encoding = 'utf-8') as infile:\n",
    "    for idx,line in enumerate(infile.readlines()):\n",
    "        line = line.strip().split(',')\n",
    "        c.execute('''\n",
    "        INSERT INTO yearly_monthly_sales_by_owner (Owner_ID, Year, Month, Sales, Transactions, Items)\n",
    "        VALUES (?,?,?,?,?,?)''', line)\n",
    "        \n",
    "db.commit()"
   ]
  },
  {
   "cell_type": "code",
   "execution_count": 13,
   "id": "f0073d26",
   "metadata": {},
   "outputs": [],
   "source": [
    "#Sales by product description by year by month\n",
    "\n",
    "prod_desc_year_month_query = '''SELECT Department,\n",
    "    (EXTRACT(Year FROM DateTime)) AS Year,\n",
    "    (EXTRACT(Month FROM DateTime)) AS Month,\n",
    "    UPC,\n",
    "    Description,\n",
    "    ROUND(SUM(Total),2) as Sales,\n",
    "    COUNT(DISTINCT(DATE(DateTime) || Register_Num || Emp_Num || Trans_Num)) AS Transactions,\n",
    "    SUM(CASE WHEN(Trans_Status = 'V' OR Trans_Status = 'R') THEN -1 ELSE 1 END) as Items\n",
    "    FROM `cloughwedge2021.cloughwedge2021.transArchive*`\n",
    "    \n",
    "    WHERE Card_No != 3\n",
    "    AND Department != 0\n",
    "    AND Department != 15\n",
    "    AND Trans_Status != 'M'\n",
    "    AND Trans_Status != 'C'\n",
    "    AND Trans_Status != 'J'\n",
    "    AND (Trans_Status = ''\n",
    "    OR Trans_Status = ' '\n",
    "    OR Trans_Status = 'V'\n",
    "    OR Trans_Status = 'R')\n",
    "    GROUP BY Year, Month, UPC, Description, Department\n",
    "    ORDER BY Description, Year, Month DESC'''    \n",
    "    \n",
    "product_description_year_month = client.query(prod_desc_year_month_query,location=\"US\")"
   ]
  },
  {
   "cell_type": "code",
   "execution_count": 14,
   "id": "c270c2b4",
   "metadata": {},
   "outputs": [],
   "source": [
    "headers = [\"Department\",\"Year\",\"Month\",\"UPC\",\"Sales\",\"Description\",\"Transactions\",\"Items\"]"
   ]
  },
  {
   "cell_type": "code",
   "execution_count": 15,
   "id": "6bfed3b0",
   "metadata": {},
   "outputs": [],
   "source": [
    "with open(\"sales_product_desc_year_month.txt\", 'w', encoding = 'utf-8') as outfile:\n",
    "    outfile.write(\",\".join(headers) + \"\\n\")\n",
    "    for row in product_description_year_month:\n",
    "         outfile.write(\",\".join([str(item) for item in row])+ '\\n')"
   ]
  },
  {
   "cell_type": "code",
   "execution_count": 16,
   "id": "4e114dd6",
   "metadata": {},
   "outputs": [],
   "source": [
    "input_file3 = \"sales_product_desc_year_month.txt\"\n",
    "\n",
    "c.execute('''DROP TABLE IF EXISTS prod_description_by_year_by_month''')\n",
    "\n",
    "c.execute('''CREATE TABLE prod_description_by_year_by_month (\n",
    "    Department FLOAT,\n",
    "    Dept_name TEXT,\n",
    "    Year TIMESTAMP,\n",
    "    Month TIMESTAMP,\n",
    "    UPC STRING,\n",
    "    Description STRING,\n",
    "    Sales REAL,\n",
    "    Transactions INTEGER,\n",
    "    Items INTEGER)''')\n",
    "\n",
    "with open(input_file3, 'r', encoding = 'utf-8') as infile:\n",
    "    for idx,line in enumerate(infile.readlines()):\n",
    "        line = line.strip().split(',')\n",
    "        c.execute('''\n",
    "        INSERT INTO prod_description_by_year_by_month (Department, Year, Month, UPC, Description, Sales, Transactions, Items)\n",
    "        VALUES (?,?,?,?,?,?,?,?)''', line)\n",
    "        \n",
    "db.commit()"
   ]
  }
 ],
 "metadata": {
  "kernelspec": {
   "display_name": "Python 3 (ipykernel)",
   "language": "python",
   "name": "python3"
  },
  "language_info": {
   "codemirror_mode": {
    "name": "ipython",
    "version": 3
   },
   "file_extension": ".py",
   "mimetype": "text/x-python",
   "name": "python",
   "nbconvert_exporter": "python",
   "pygments_lexer": "ipython3",
   "version": "3.10.2"
  }
 },
 "nbformat": 4,
 "nbformat_minor": 5
}
