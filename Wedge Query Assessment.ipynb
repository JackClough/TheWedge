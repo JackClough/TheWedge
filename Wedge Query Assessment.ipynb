{
 "cells": [
  {
   "cell_type": "markdown",
   "id": "instrumental-brand",
   "metadata": {},
   "source": [
    "# Wedge Query Assessment\n",
    "\n",
    "Please be good"
   ]
  },
  {
   "cell_type": "code",
   "execution_count": 1,
   "id": "specified-karaoke",
   "metadata": {},
   "outputs": [],
   "source": [
    "from google.cloud import bigquery\n",
    "from google.oauth2 import service_account\n",
    "import os\n",
    "%load_ext google.cloud.bigquery"
   ]
  },
  {
   "cell_type": "code",
   "execution_count": 2,
   "id": "after-belly",
   "metadata": {},
   "outputs": [],
   "source": [
    "os.environ[\"GOOGLE_APPLICATION_CREDENTIALS\"]=\"C:/Users/jackc/OneDrive/Documents/MSBA/Applied Data Analytics/Wedge/cloughwedge2021-3249989ff592.json\""
   ]
  },
  {
   "cell_type": "code",
   "execution_count": 3,
   "id": "actual-bracelet",
   "metadata": {},
   "outputs": [],
   "source": [
    "client = bigquery.Client(project = 'cloughwedge2021')\n",
    "gbq_proj_id = \"cloughwedge2021\""
   ]
  },
  {
   "cell_type": "code",
   "execution_count": null,
   "id": "laden-albert",
   "metadata": {},
   "outputs": [],
   "source": [
    "projID = \"cloughwedge2021.\"\n",
    "database = \"transactions\""
   ]
  },
  {
   "cell_type": "markdown",
   "id": "amber-teens",
   "metadata": {},
   "source": [
    "### Total Row Count"
   ]
  },
  {
   "cell_type": "code",
   "execution_count": 5,
   "id": "fitting-photograph",
   "metadata": {},
   "outputs": [
    {
     "name": "stderr",
     "output_type": "stream",
     "text": [
      "Query complete after 0.05s: 100%|████████████████████████████████████████████████████| 2/2 [00:00<00:00, 208.27query/s]\n",
      "Downloading: 100%|█████████████████████████████████████████████████████████████████████| 1/1 [00:01<00:00,  1.81s/rows]\n"
     ]
    },
    {
     "data": {
      "text/html": [
       "<div>\n",
       "<style scoped>\n",
       "    .dataframe tbody tr th:only-of-type {\n",
       "        vertical-align: middle;\n",
       "    }\n",
       "\n",
       "    .dataframe tbody tr th {\n",
       "        vertical-align: top;\n",
       "    }\n",
       "\n",
       "    .dataframe thead th {\n",
       "        text-align: right;\n",
       "    }\n",
       "</style>\n",
       "<table border=\"1\" class=\"dataframe\">\n",
       "  <thead>\n",
       "    <tr style=\"text-align: right;\">\n",
       "      <th></th>\n",
       "      <th>cnt</th>\n",
       "    </tr>\n",
       "  </thead>\n",
       "  <tbody>\n",
       "    <tr>\n",
       "      <th>0</th>\n",
       "      <td>85760139</td>\n",
       "    </tr>\n",
       "  </tbody>\n",
       "</table>\n",
       "</div>"
      ],
      "text/plain": [
       "        cnt\n",
       "0  85760139"
      ]
     },
     "execution_count": 5,
     "metadata": {},
     "output_type": "execute_result"
    }
   ],
   "source": [
    "%%bigquery\n",
    "SELECT count(*) as cnt\n",
    "FROM `cloughwedge2021.cloughwedge2021.transArchive_*` "
   ]
  },
  {
   "cell_type": "markdown",
   "id": "fabulous-hanging",
   "metadata": {},
   "source": [
    "The GBQ instance has a total row count of 85760139"
   ]
  },
  {
   "cell_type": "markdown",
   "id": "postal-feedback",
   "metadata": {},
   "source": [
    "### January/October 2012 Row Counts"
   ]
  },
  {
   "cell_type": "code",
   "execution_count": 13,
   "id": "canadian-shadow",
   "metadata": {},
   "outputs": [
    {
     "name": "stderr",
     "output_type": "stream",
     "text": [
      "Query complete after 0.01s: 100%|████████████████████████████████████████████████████| 3/3 [00:00<00:00, 598.79query/s]\n",
      "Downloading: 100%|███████████████████████████████████████████████████████████████████| 12/12 [00:02<00:00,  5.97rows/s]\n"
     ]
    },
    {
     "data": {
      "text/html": [
       "<div>\n",
       "<style scoped>\n",
       "    .dataframe tbody tr th:only-of-type {\n",
       "        vertical-align: middle;\n",
       "    }\n",
       "\n",
       "    .dataframe tbody tr th {\n",
       "        vertical-align: top;\n",
       "    }\n",
       "\n",
       "    .dataframe thead th {\n",
       "        text-align: right;\n",
       "    }\n",
       "</style>\n",
       "<table border=\"1\" class=\"dataframe\">\n",
       "  <thead>\n",
       "    <tr style=\"text-align: right;\">\n",
       "      <th></th>\n",
       "      <th>Yr</th>\n",
       "      <th>Mo</th>\n",
       "      <th>f0_</th>\n",
       "    </tr>\n",
       "  </thead>\n",
       "  <tbody>\n",
       "    <tr>\n",
       "      <th>0</th>\n",
       "      <td>2012</td>\n",
       "      <td>1</td>\n",
       "      <td>1070907</td>\n",
       "    </tr>\n",
       "    <tr>\n",
       "      <th>1</th>\n",
       "      <td>2012</td>\n",
       "      <td>2</td>\n",
       "      <td>1034261</td>\n",
       "    </tr>\n",
       "    <tr>\n",
       "      <th>2</th>\n",
       "      <td>2012</td>\n",
       "      <td>3</td>\n",
       "      <td>1130248</td>\n",
       "    </tr>\n",
       "    <tr>\n",
       "      <th>3</th>\n",
       "      <td>2012</td>\n",
       "      <td>4</td>\n",
       "      <td>1135000</td>\n",
       "    </tr>\n",
       "    <tr>\n",
       "      <th>4</th>\n",
       "      <td>2012</td>\n",
       "      <td>5</td>\n",
       "      <td>1132624</td>\n",
       "    </tr>\n",
       "    <tr>\n",
       "      <th>5</th>\n",
       "      <td>2012</td>\n",
       "      <td>6</td>\n",
       "      <td>1053912</td>\n",
       "    </tr>\n",
       "    <tr>\n",
       "      <th>6</th>\n",
       "      <td>2012</td>\n",
       "      <td>7</td>\n",
       "      <td>1042457</td>\n",
       "    </tr>\n",
       "    <tr>\n",
       "      <th>7</th>\n",
       "      <td>2012</td>\n",
       "      <td>8</td>\n",
       "      <td>1029592</td>\n",
       "    </tr>\n",
       "    <tr>\n",
       "      <th>8</th>\n",
       "      <td>2012</td>\n",
       "      <td>9</td>\n",
       "      <td>1044436</td>\n",
       "    </tr>\n",
       "    <tr>\n",
       "      <th>9</th>\n",
       "      <td>2012</td>\n",
       "      <td>10</td>\n",
       "      <td>1042287</td>\n",
       "    </tr>\n",
       "    <tr>\n",
       "      <th>10</th>\n",
       "      <td>2012</td>\n",
       "      <td>11</td>\n",
       "      <td>1025340</td>\n",
       "    </tr>\n",
       "    <tr>\n",
       "      <th>11</th>\n",
       "      <td>2012</td>\n",
       "      <td>12</td>\n",
       "      <td>988998</td>\n",
       "    </tr>\n",
       "  </tbody>\n",
       "</table>\n",
       "</div>"
      ],
      "text/plain": [
       "      Yr  Mo      f0_\n",
       "0   2012   1  1070907\n",
       "1   2012   2  1034261\n",
       "2   2012   3  1130248\n",
       "3   2012   4  1135000\n",
       "4   2012   5  1132624\n",
       "5   2012   6  1053912\n",
       "6   2012   7  1042457\n",
       "7   2012   8  1029592\n",
       "8   2012   9  1044436\n",
       "9   2012  10  1042287\n",
       "10  2012  11  1025340\n",
       "11  2012  12   988998"
      ]
     },
     "execution_count": 13,
     "metadata": {},
     "output_type": "execute_result"
    }
   ],
   "source": [
    "%%bigquery\n",
    "SELECT EXTRACT(Year from datetime) as Year,\n",
    "       EXTRACT(Month from datetime) as Month,\n",
    "       count(*)\n",
    "FROM `cloughwedge2021.cloughwedge2021.transArchive_*` \n",
    "\n",
    "GROUP BY Year, Month\n",
    "HAVING Year = 2012 \n",
    "ORDER BY Year, Month"
   ]
  },
  {
   "cell_type": "markdown",
   "id": "brutal-pregnancy",
   "metadata": {},
   "source": [
    "January has a row count of 1070907\n",
    "October has a row count of 1025340"
   ]
  },
  {
   "cell_type": "markdown",
   "id": "stainless-conditions",
   "metadata": {},
   "source": [
    "### Rows by Month"
   ]
  },
  {
   "cell_type": "code",
   "execution_count": 15,
   "id": "fantastic-earth",
   "metadata": {},
   "outputs": [
    {
     "name": "stderr",
     "output_type": "stream",
     "text": [
      "Query complete after 0.00s: 100%|███████████████████████████████████████████████████| 3/3 [00:00<00:00, 1025.59query/s]\n",
      "Downloading: 100%|███████████████████████████████████████████████████████████████████| 12/12 [00:01<00:00,  6.10rows/s]\n"
     ]
    },
    {
     "data": {
      "text/html": [
       "<div>\n",
       "<style scoped>\n",
       "    .dataframe tbody tr th:only-of-type {\n",
       "        vertical-align: middle;\n",
       "    }\n",
       "\n",
       "    .dataframe tbody tr th {\n",
       "        vertical-align: top;\n",
       "    }\n",
       "\n",
       "    .dataframe thead th {\n",
       "        text-align: right;\n",
       "    }\n",
       "</style>\n",
       "<table border=\"1\" class=\"dataframe\">\n",
       "  <thead>\n",
       "    <tr style=\"text-align: right;\">\n",
       "      <th></th>\n",
       "      <th>Mo</th>\n",
       "      <th>cnt</th>\n",
       "    </tr>\n",
       "  </thead>\n",
       "  <tbody>\n",
       "    <tr>\n",
       "      <th>0</th>\n",
       "      <td>2</td>\n",
       "      <td>6556770</td>\n",
       "    </tr>\n",
       "    <tr>\n",
       "      <th>1</th>\n",
       "      <td>12</td>\n",
       "      <td>6740733</td>\n",
       "    </tr>\n",
       "    <tr>\n",
       "      <th>2</th>\n",
       "      <td>11</td>\n",
       "      <td>6955365</td>\n",
       "    </tr>\n",
       "    <tr>\n",
       "      <th>3</th>\n",
       "      <td>9</td>\n",
       "      <td>6975855</td>\n",
       "    </tr>\n",
       "    <tr>\n",
       "      <th>4</th>\n",
       "      <td>8</td>\n",
       "      <td>7008748</td>\n",
       "    </tr>\n",
       "    <tr>\n",
       "      <th>5</th>\n",
       "      <td>6</td>\n",
       "      <td>7012157</td>\n",
       "    </tr>\n",
       "    <tr>\n",
       "      <th>6</th>\n",
       "      <td>7</td>\n",
       "      <td>7013013</td>\n",
       "    </tr>\n",
       "    <tr>\n",
       "      <th>7</th>\n",
       "      <td>1</td>\n",
       "      <td>7056762</td>\n",
       "    </tr>\n",
       "    <tr>\n",
       "      <th>8</th>\n",
       "      <td>10</td>\n",
       "      <td>7085752</td>\n",
       "    </tr>\n",
       "    <tr>\n",
       "      <th>9</th>\n",
       "      <td>4</td>\n",
       "      <td>7417388</td>\n",
       "    </tr>\n",
       "    <tr>\n",
       "      <th>10</th>\n",
       "      <td>3</td>\n",
       "      <td>7422483</td>\n",
       "    </tr>\n",
       "    <tr>\n",
       "      <th>11</th>\n",
       "      <td>5</td>\n",
       "      <td>7578372</td>\n",
       "    </tr>\n",
       "  </tbody>\n",
       "</table>\n",
       "</div>"
      ],
      "text/plain": [
       "    Mo      cnt\n",
       "0    2  6556770\n",
       "1   12  6740733\n",
       "2   11  6955365\n",
       "3    9  6975855\n",
       "4    8  7008748\n",
       "5    6  7012157\n",
       "6    7  7013013\n",
       "7    1  7056762\n",
       "8   10  7085752\n",
       "9    4  7417388\n",
       "10   3  7422483\n",
       "11   5  7578372"
      ]
     },
     "execution_count": 15,
     "metadata": {},
     "output_type": "execute_result"
    }
   ],
   "source": [
    "%%bigquery\n",
    "SELECT EXTRACT(Month from datetime) as Mo,\n",
    "       count(*) as cnt\n",
    "FROM `cloughwedge2021.cloughwedge2021.transArchive_*` \n",
    "WHERE EXTRACT(Year from datetime) <= 2016\n",
    "GROUP BY Mo\n",
    "ORDER BY cnt"
   ]
  },
  {
   "cell_type": "markdown",
   "id": "consecutive-prevention",
   "metadata": {},
   "source": [
    "January has a row count of 7056762\n",
    "October has a row 7085752"
   ]
  },
  {
   "cell_type": "markdown",
   "id": "changing-fifteen",
   "metadata": {},
   "source": [
    "### Null Counts"
   ]
  },
  {
   "cell_type": "code",
   "execution_count": 16,
   "id": "expected-tracker",
   "metadata": {},
   "outputs": [
    {
     "name": "stderr",
     "output_type": "stream",
     "text": [
      "Query complete after 0.00s: 100%|████████████████████████████████████████████████████| 2/2 [00:00<00:00, 201.78query/s]\n",
      "Downloading: 100%|█████████████████████████████████████████████████████████████████████| 1/1 [00:01<00:00,  1.83s/rows]\n"
     ]
    },
    {
     "data": {
      "text/html": [
       "<div>\n",
       "<style scoped>\n",
       "    .dataframe tbody tr th:only-of-type {\n",
       "        vertical-align: middle;\n",
       "    }\n",
       "\n",
       "    .dataframe tbody tr th {\n",
       "        vertical-align: top;\n",
       "    }\n",
       "\n",
       "    .dataframe thead th {\n",
       "        text-align: right;\n",
       "    }\n",
       "</style>\n",
       "<table border=\"1\" class=\"dataframe\">\n",
       "  <thead>\n",
       "    <tr style=\"text-align: right;\">\n",
       "      <th></th>\n",
       "      <th>Null_TS</th>\n",
       "      <th>Null_DT</th>\n",
       "      <th>Null_Local</th>\n",
       "      <th>Null_CN</th>\n",
       "    </tr>\n",
       "  </thead>\n",
       "  <tbody>\n",
       "    <tr>\n",
       "      <th>0</th>\n",
       "      <td>7123792</td>\n",
       "      <td>0</td>\n",
       "      <td>234843</td>\n",
       "      <td>0</td>\n",
       "    </tr>\n",
       "  </tbody>\n",
       "</table>\n",
       "</div>"
      ],
      "text/plain": [
       "   Null_TS  Null_DT  Null_Local  Null_CN\n",
       "0  7123792        0      234843        0"
      ]
     },
     "execution_count": 16,
     "metadata": {},
     "output_type": "execute_result"
    }
   ],
   "source": [
    "%%bigquery\n",
    "SELECT COUNTIF(trans_subtype is NULL) as Null_TS,\n",
    "       COUNTIF(datetime is NULL) as Null_DT,\n",
    "       COUNTIF(local IS NULL) as Null_Local,\n",
    "       COUNTIF(card_no IS NULL) as Null_CN\n",
    "FROM `cloughwedge2021.cloughwedge2021.transArchive_*` "
   ]
  },
  {
   "cell_type": "markdown",
   "id": "relative-legislature",
   "metadata": {},
   "source": [
    "transaction subtypes has 7123792 null values\n",
    "datetimes has 0 null values\n",
    "locals has 234843 null values\n",
    "card numbers has 0 null values"
   ]
  },
  {
   "cell_type": "markdown",
   "id": "banner-hopkins",
   "metadata": {},
   "source": [
    "### High Volume Cards"
   ]
  },
  {
   "cell_type": "code",
   "execution_count": 17,
   "id": "stuffed-involvement",
   "metadata": {},
   "outputs": [
    {
     "name": "stderr",
     "output_type": "stream",
     "text": [
      "Query complete after 0.02s: 100%|████████████████████████████████████████████████████| 3/3 [00:00<00:00, 549.45query/s]\n",
      "Downloading: 100%|███████████████████████████████████████████████████████████████████| 10/10 [00:01<00:00,  7.30rows/s]\n"
     ]
    },
    {
     "data": {
      "text/html": [
       "<div>\n",
       "<style scoped>\n",
       "    .dataframe tbody tr th:only-of-type {\n",
       "        vertical-align: middle;\n",
       "    }\n",
       "\n",
       "    .dataframe tbody tr th {\n",
       "        vertical-align: top;\n",
       "    }\n",
       "\n",
       "    .dataframe thead th {\n",
       "        text-align: right;\n",
       "    }\n",
       "</style>\n",
       "<table border=\"1\" class=\"dataframe\">\n",
       "  <thead>\n",
       "    <tr style=\"text-align: right;\">\n",
       "      <th></th>\n",
       "      <th>card_no</th>\n",
       "      <th>cnt</th>\n",
       "    </tr>\n",
       "  </thead>\n",
       "  <tbody>\n",
       "    <tr>\n",
       "      <th>0</th>\n",
       "      <td>12539.0</td>\n",
       "      <td>2161167</td>\n",
       "    </tr>\n",
       "    <tr>\n",
       "      <th>1</th>\n",
       "      <td>10499.0</td>\n",
       "      <td>1013697</td>\n",
       "    </tr>\n",
       "    <tr>\n",
       "      <th>2</th>\n",
       "      <td>14140.0</td>\n",
       "      <td>942230</td>\n",
       "    </tr>\n",
       "    <tr>\n",
       "      <th>3</th>\n",
       "      <td>20074.0</td>\n",
       "      <td>643460</td>\n",
       "    </tr>\n",
       "    <tr>\n",
       "      <th>4</th>\n",
       "      <td>14987.0</td>\n",
       "      <td>460630</td>\n",
       "    </tr>\n",
       "    <tr>\n",
       "      <th>5</th>\n",
       "      <td>10504.0</td>\n",
       "      <td>164864</td>\n",
       "    </tr>\n",
       "    <tr>\n",
       "      <th>6</th>\n",
       "      <td>21517.0</td>\n",
       "      <td>133006</td>\n",
       "    </tr>\n",
       "    <tr>\n",
       "      <th>7</th>\n",
       "      <td>23170.0</td>\n",
       "      <td>99276</td>\n",
       "    </tr>\n",
       "    <tr>\n",
       "      <th>8</th>\n",
       "      <td>19750.0</td>\n",
       "      <td>65876</td>\n",
       "    </tr>\n",
       "    <tr>\n",
       "      <th>9</th>\n",
       "      <td>15876.0</td>\n",
       "      <td>59053</td>\n",
       "    </tr>\n",
       "  </tbody>\n",
       "</table>\n",
       "</div>"
      ],
      "text/plain": [
       "   card_no      cnt\n",
       "0  12539.0  2161167\n",
       "1  10499.0  1013697\n",
       "2  14140.0   942230\n",
       "3  20074.0   643460\n",
       "4  14987.0   460630\n",
       "5  10504.0   164864\n",
       "6  21517.0   133006\n",
       "7  23170.0    99276\n",
       "8  19750.0    65876\n",
       "9  15876.0    59053"
      ]
     },
     "execution_count": 17,
     "metadata": {},
     "output_type": "execute_result"
    }
   ],
   "source": [
    "%%bigquery\n",
    "SELECT card_no, \n",
    "       COUNT(*) as cnt\n",
    "FROM `cloughwedge2021.cloughwedge2021.transArchive_*` \n",
    "WHERE card_no != 3\n",
    "GROUP BY card_no\n",
    "ORDER BY cnt desc\n",
    "LIMIT 10"
   ]
  },
  {
   "cell_type": "markdown",
   "id": "independent-description",
   "metadata": {},
   "source": [
    "__What card is #5 on the list and how many rows does it have?__\n",
    "Card_No 14987, it has 460630 rows"
   ]
  },
  {
   "cell_type": "markdown",
   "id": "advisory-uncle",
   "metadata": {},
   "source": [
    "### Owner ID \"18736\" Counts "
   ]
  },
  {
   "cell_type": "code",
   "execution_count": 18,
   "id": "judicial-intermediate",
   "metadata": {},
   "outputs": [
    {
     "name": "stderr",
     "output_type": "stream",
     "text": [
      "Query complete after 0.01s: 100%|████████████████████████████████████████████████████| 2/2 [00:00<00:00, 134.37query/s]\n",
      "Downloading: 100%|█████████████████████████████████████████████████████████████████████| 1/1 [00:01<00:00,  1.01s/rows]\n"
     ]
    },
    {
     "data": {
      "text/html": [
       "<div>\n",
       "<style scoped>\n",
       "    .dataframe tbody tr th:only-of-type {\n",
       "        vertical-align: middle;\n",
       "    }\n",
       "\n",
       "    .dataframe tbody tr th {\n",
       "        vertical-align: top;\n",
       "    }\n",
       "\n",
       "    .dataframe thead th {\n",
       "        text-align: right;\n",
       "    }\n",
       "</style>\n",
       "<table border=\"1\" class=\"dataframe\">\n",
       "  <thead>\n",
       "    <tr style=\"text-align: right;\">\n",
       "      <th></th>\n",
       "      <th>card_no</th>\n",
       "      <th>cnt</th>\n",
       "    </tr>\n",
       "  </thead>\n",
       "  <tbody>\n",
       "    <tr>\n",
       "      <th>0</th>\n",
       "      <td>18736.0</td>\n",
       "      <td>12153</td>\n",
       "    </tr>\n",
       "  </tbody>\n",
       "</table>\n",
       "</div>"
      ],
      "text/plain": [
       "   card_no    cnt\n",
       "0  18736.0  12153"
      ]
     },
     "execution_count": 18,
     "metadata": {},
     "output_type": "execute_result"
    }
   ],
   "source": [
    "%%bigquery\n",
    "SELECT card_no, \n",
    "       COUNT(*) as cnt\n",
    "FROM `cloughwedge2021.cloughwedge2021.transArchive_*` \n",
    "WHERE card_no = 18736\n",
    "GROUP BY card_no"
   ]
  },
  {
   "cell_type": "markdown",
   "id": "funky-moral",
   "metadata": {},
   "source": [
    "__How many rows do I have?__\n",
    "12153"
   ]
  },
  {
   "cell_type": "markdown",
   "id": "average-jesus",
   "metadata": {},
   "source": [
    "### Popular Products"
   ]
  },
  {
   "cell_type": "code",
   "execution_count": 20,
   "id": "permanent-florence",
   "metadata": {},
   "outputs": [
    {
     "name": "stderr",
     "output_type": "stream",
     "text": [
      "Query complete after 0.00s: 100%|████████████████████████████████████████████████████| 3/3 [00:00<00:00, 438.78query/s]\n",
      "Downloading: 100%|███████████████████████████████████████████████████████████████████| 10/10 [00:01<00:00,  6.22rows/s]\n"
     ]
    },
    {
     "data": {
      "text/html": [
       "<div>\n",
       "<style scoped>\n",
       "    .dataframe tbody tr th:only-of-type {\n",
       "        vertical-align: middle;\n",
       "    }\n",
       "\n",
       "    .dataframe tbody tr th {\n",
       "        vertical-align: top;\n",
       "    }\n",
       "\n",
       "    .dataframe thead th {\n",
       "        text-align: right;\n",
       "    }\n",
       "</style>\n",
       "<table border=\"1\" class=\"dataframe\">\n",
       "  <thead>\n",
       "    <tr style=\"text-align: right;\">\n",
       "      <th></th>\n",
       "      <th>f0_</th>\n",
       "      <th>cnt</th>\n",
       "    </tr>\n",
       "  </thead>\n",
       "  <tbody>\n",
       "    <tr>\n",
       "      <th>0</th>\n",
       "      <td>banana organic</td>\n",
       "      <td>908639</td>\n",
       "    </tr>\n",
       "    <tr>\n",
       "      <th>1</th>\n",
       "      <td>green patch redemption</td>\n",
       "      <td>572473</td>\n",
       "    </tr>\n",
       "    <tr>\n",
       "      <th>2</th>\n",
       "      <td>wedge cookie</td>\n",
       "      <td>510140</td>\n",
       "    </tr>\n",
       "    <tr>\n",
       "      <th>3</th>\n",
       "      <td>avocado hass organic</td>\n",
       "      <td>456771</td>\n",
       "    </tr>\n",
       "    <tr>\n",
       "      <th>4</th>\n",
       "      <td>broccoli organic</td>\n",
       "      <td>344657</td>\n",
       "    </tr>\n",
       "    <tr>\n",
       "      <th>5</th>\n",
       "      <td>celery organic</td>\n",
       "      <td>254479</td>\n",
       "    </tr>\n",
       "    <tr>\n",
       "      <th>6</th>\n",
       "      <td>citrus lemon organic</td>\n",
       "      <td>246058</td>\n",
       "    </tr>\n",
       "    <tr>\n",
       "      <th>7</th>\n",
       "      <td>salad mix organic</td>\n",
       "      <td>225088</td>\n",
       "    </tr>\n",
       "    <tr>\n",
       "      <th>8</th>\n",
       "      <td>pepper bell red organic</td>\n",
       "      <td>224162</td>\n",
       "    </tr>\n",
       "    <tr>\n",
       "      <th>9</th>\n",
       "      <td>spinach bulk organic</td>\n",
       "      <td>209826</td>\n",
       "    </tr>\n",
       "  </tbody>\n",
       "</table>\n",
       "</div>"
      ],
      "text/plain": [
       "                       f0_     cnt\n",
       "0           banana organic  908639\n",
       "1   green patch redemption  572473\n",
       "2             wedge cookie  510140\n",
       "3     avocado hass organic  456771\n",
       "4         broccoli organic  344657\n",
       "5           celery organic  254479\n",
       "6     citrus lemon organic  246058\n",
       "7        salad mix organic  225088\n",
       "8  pepper bell red organic  224162\n",
       "9     spinach bulk organic  209826"
      ]
     },
     "execution_count": 20,
     "metadata": {},
     "output_type": "execute_result"
    }
   ],
   "source": [
    "%%bigquery\n",
    "SELECT LOWER(Description), \n",
    "       COUNT(*) as cnt\n",
    "FROM `cloughwedge2021.cloughwedge2021.transArchive_*`\n",
    "WHERE trans_type = \"I\" AND\n",
    "      Description != \"Discount\"\n",
    "GROUP BY LOWER(Description)\n",
    "ORDER BY cnt desc\n",
    "LIMIT 10"
   ]
  },
  {
   "cell_type": "markdown",
   "id": "bronze-ground",
   "metadata": {},
   "source": [
    "__Which product is #1? How many rows does it have?__ \n",
    "Organic bananas, which has 908639 rows\n",
    "\n",
    "__Which product is #4? How many rows does it have?__\n",
    "Organic Hass avocados, which has 456771 rows"
   ]
  },
  {
   "cell_type": "markdown",
   "id": "continuous-elder",
   "metadata": {},
   "source": [
    "### Single Record Items"
   ]
  },
  {
   "cell_type": "code",
   "execution_count": 22,
   "id": "union-hunter",
   "metadata": {},
   "outputs": [
    {
     "name": "stderr",
     "output_type": "stream",
     "text": [
      "Query complete after 0.01s: 100%|████████████████████████████████████████████████████| 3/3 [00:00<00:00, 298.63query/s]\n",
      "Downloading: 100%|█████████████████████████████████████████████████████████████████████| 1/1 [00:01<00:00,  1.52s/rows]\n"
     ]
    },
    {
     "data": {
      "text/html": [
       "<div>\n",
       "<style scoped>\n",
       "    .dataframe tbody tr th:only-of-type {\n",
       "        vertical-align: middle;\n",
       "    }\n",
       "\n",
       "    .dataframe tbody tr th {\n",
       "        vertical-align: top;\n",
       "    }\n",
       "\n",
       "    .dataframe thead th {\n",
       "        text-align: right;\n",
       "    }\n",
       "</style>\n",
       "<table border=\"1\" class=\"dataframe\">\n",
       "  <thead>\n",
       "    <tr style=\"text-align: right;\">\n",
       "      <th></th>\n",
       "      <th>SingleRecordItems</th>\n",
       "    </tr>\n",
       "  </thead>\n",
       "  <tbody>\n",
       "    <tr>\n",
       "      <th>0</th>\n",
       "      <td>2769</td>\n",
       "    </tr>\n",
       "  </tbody>\n",
       "</table>\n",
       "</div>"
      ],
      "text/plain": [
       "   SingleRecordItems\n",
       "0               2769"
      ]
     },
     "execution_count": 22,
     "metadata": {},
     "output_type": "execute_result"
    }
   ],
   "source": [
    "%%bigquery\n",
    "SELECT \n",
    "    COUNT(DISTINCT Description) as SingleRecordItems\n",
    "FROM (\n",
    "    SELECT LOWER(Description) as Description,\n",
    "           COUNT(*) as cnt\n",
    "    FROM `cloughwedge2021.cloughwedge2021.transArchive_*` \n",
    "  WHERE trans_type = \"I\" AND Description != \"Discount\"\n",
    "    GROUP BY Description\n",
    "    HAVING cnt = 1\n",
    "    )"
   ]
  },
  {
   "cell_type": "markdown",
   "id": "passing-basement",
   "metadata": {},
   "source": [
    "There are 2769 single record items"
   ]
  },
  {
   "cell_type": "markdown",
   "id": "informative-component",
   "metadata": {},
   "source": [
    "### Owner Fractions By Year"
   ]
  },
  {
   "cell_type": "code",
   "execution_count": 23,
   "id": "intended-leonard",
   "metadata": {},
   "outputs": [
    {
     "name": "stderr",
     "output_type": "stream",
     "text": [
      "Query complete after 0.00s: 100%|████████████████████████████████████████████████████| 3/3 [00:00<00:00, 290.48query/s]\n",
      "Downloading: 100%|█████████████████████████████████████████████████████████████████████| 8/8 [00:01<00:00,  5.59rows/s]\n"
     ]
    },
    {
     "data": {
      "text/html": [
       "<div>\n",
       "<style scoped>\n",
       "    .dataframe tbody tr th:only-of-type {\n",
       "        vertical-align: middle;\n",
       "    }\n",
       "\n",
       "    .dataframe tbody tr th {\n",
       "        vertical-align: top;\n",
       "    }\n",
       "\n",
       "    .dataframe thead th {\n",
       "        text-align: right;\n",
       "    }\n",
       "</style>\n",
       "<table border=\"1\" class=\"dataframe\">\n",
       "  <thead>\n",
       "    <tr style=\"text-align: right;\">\n",
       "      <th></th>\n",
       "      <th>Y</th>\n",
       "      <th>OwnerRows</th>\n",
       "      <th>NonOwnerRows</th>\n",
       "      <th>OwnerFrac</th>\n",
       "    </tr>\n",
       "  </thead>\n",
       "  <tbody>\n",
       "    <tr>\n",
       "      <th>0</th>\n",
       "      <td>2010</td>\n",
       "      <td>9005825</td>\n",
       "      <td>3128483</td>\n",
       "      <td>0.7422</td>\n",
       "    </tr>\n",
       "    <tr>\n",
       "      <th>1</th>\n",
       "      <td>2011</td>\n",
       "      <td>8980792</td>\n",
       "      <td>3200841</td>\n",
       "      <td>0.7372</td>\n",
       "    </tr>\n",
       "    <tr>\n",
       "      <th>2</th>\n",
       "      <td>2012</td>\n",
       "      <td>9442984</td>\n",
       "      <td>3287078</td>\n",
       "      <td>0.7418</td>\n",
       "    </tr>\n",
       "    <tr>\n",
       "      <th>3</th>\n",
       "      <td>2013</td>\n",
       "      <td>9214660</td>\n",
       "      <td>3103828</td>\n",
       "      <td>0.7480</td>\n",
       "    </tr>\n",
       "    <tr>\n",
       "      <th>4</th>\n",
       "      <td>2014</td>\n",
       "      <td>9237995</td>\n",
       "      <td>2932261</td>\n",
       "      <td>0.7591</td>\n",
       "    </tr>\n",
       "    <tr>\n",
       "      <th>5</th>\n",
       "      <td>2015</td>\n",
       "      <td>9217601</td>\n",
       "      <td>3183007</td>\n",
       "      <td>0.7433</td>\n",
       "    </tr>\n",
       "    <tr>\n",
       "      <th>6</th>\n",
       "      <td>2016</td>\n",
       "      <td>8166872</td>\n",
       "      <td>2721171</td>\n",
       "      <td>0.7501</td>\n",
       "    </tr>\n",
       "    <tr>\n",
       "      <th>7</th>\n",
       "      <td>2017</td>\n",
       "      <td>703766</td>\n",
       "      <td>232975</td>\n",
       "      <td>0.7513</td>\n",
       "    </tr>\n",
       "  </tbody>\n",
       "</table>\n",
       "</div>"
      ],
      "text/plain": [
       "      Y  OwnerRows  NonOwnerRows  OwnerFrac\n",
       "0  2010    9005825       3128483     0.7422\n",
       "1  2011    8980792       3200841     0.7372\n",
       "2  2012    9442984       3287078     0.7418\n",
       "3  2013    9214660       3103828     0.7480\n",
       "4  2014    9237995       2932261     0.7591\n",
       "5  2015    9217601       3183007     0.7433\n",
       "6  2016    8166872       2721171     0.7501\n",
       "7  2017     703766        232975     0.7513"
      ]
     },
     "execution_count": 23,
     "metadata": {},
     "output_type": "execute_result"
    }
   ],
   "source": [
    "%%bigquery\n",
    "SELECT\n",
    "  Y,\n",
    "  OwnerRows,\n",
    "  NonOwnerRows,\n",
    "  ROUND(OwnerRows/(OwnerRows+NonOwnerRows),4) AS OwnerFrac\n",
    "FROM (\n",
    "  SELECT\n",
    "    EXTRACT(Year\n",
    "    FROM\n",
    "      datetime) AS Y,\n",
    "    COUNTIF(card_no != 3) AS OwnerRows,\n",
    "    COUNTIF(card_no = 3) AS NonOwnerRows\n",
    "  FROM\n",
    "    `cloughwedge2021.cloughwedge2021.transArchive_*` \n",
    "  GROUP BY\n",
    "    Y)\n",
    "ORDER BY\n",
    "  Y"
   ]
  },
  {
   "cell_type": "markdown",
   "id": "fifteen-starter",
   "metadata": {},
   "source": [
    "__Which year has the highest portion of owner rows? What year? What fraction?__\n",
    "2014 with a fraction of .7591\n",
    "\n",
    "__Which year has the lowest portion of owner rows? What year? What fraction?__\n",
    "2011 with a fraction of .7372"
   ]
  }
 ],
 "metadata": {
  "kernelspec": {
   "display_name": "Python 3",
   "language": "python",
   "name": "python3"
  },
  "language_info": {
   "codemirror_mode": {
    "name": "ipython",
    "version": 3
   },
   "file_extension": ".py",
   "mimetype": "text/x-python",
   "name": "python",
   "nbconvert_exporter": "python",
   "pygments_lexer": "ipython3",
   "version": "3.9.1"
  }
 },
 "nbformat": 4,
 "nbformat_minor": 5
}
