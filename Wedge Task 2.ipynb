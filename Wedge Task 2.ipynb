{
 "cells": [
  {
   "cell_type": "code",
   "execution_count": 1,
   "id": "antique-empire",
   "metadata": {},
   "outputs": [],
   "source": [
    "from google.cloud import bigquery\n",
    "from google.oauth2 import service_account\n",
    "import os\n",
    "import random\n",
    "import os.path\n",
    "from humanize import naturalsize\n",
    "%load_ext google.cloud.bigquery"
   ]
  },
  {
   "cell_type": "code",
   "execution_count": 2,
   "id": "precious-optimization",
   "metadata": {},
   "outputs": [],
   "source": [
    "#Same credential hooplah as before\n",
    "\n",
    "os.environ[\"GOOGLE_APPLICATION_CREDENTIALS\"]=\"C:/Users/jackc/OneDrive/Documents/MSBA/Applied Data Analytics/Wedge/cloughwedge2021-3249989ff592.json\"\n",
    "client = bigquery.Client(project = 'cloughwedge2021')\n",
    "gbq_proj_id = \"cloughwedge2021\""
   ]
  },
  {
   "cell_type": "code",
   "execution_count": 3,
   "id": "broad-national",
   "metadata": {},
   "outputs": [],
   "source": [
    "#Write a query into a variable that will only take a list of distinct owner ID's not including owner ID's of 3.\n",
    "#This is because we want to exclude non-owners.\n",
    "query = '''SELECT DISTINCT(Card_No)\n",
    "FROM `cloughwedge2021.cloughwedge2021.transArchive*`\n",
    "WHERE Card_No!=3.0'''"
   ]
  },
  {
   "cell_type": "code",
   "execution_count": 4,
   "id": "outside-minneapolis",
   "metadata": {},
   "outputs": [],
   "source": [
    "owners = client.query(query,location=\"US\")\n",
    "#Just to see the results:\n",
    "#rows = owners.result()\n",
    "\n",
    "#for row in rows:\n",
    "#    print(row[0])"
   ]
  },
  {
   "cell_type": "code",
   "execution_count": 5,
   "id": "everyday-kelly",
   "metadata": {},
   "outputs": [],
   "source": [
    "#Create a list of owners. This will iterate over the query results from above.\n",
    "owner_list = []\n",
    "for owner in owners:\n",
    "    owner_list.append(owner[0])"
   ]
  },
  {
   "cell_type": "code",
   "execution_count": 6,
   "id": "structured-slope",
   "metadata": {},
   "outputs": [
    {
     "data": {
      "text/plain": [
       "27207"
      ]
     },
     "execution_count": 6,
     "metadata": {},
     "output_type": "execute_result"
    }
   ],
   "source": [
    "len(owner_list)"
   ]
  },
  {
   "cell_type": "code",
   "execution_count": 7,
   "id": "incorrect-blade",
   "metadata": {},
   "outputs": [
    {
     "data": {
      "text/plain": [
       "[48312.0,\n",
       " 48424.0,\n",
       " 48308.0,\n",
       " 48440.0,\n",
       " 48455.0,\n",
       " 48311.0,\n",
       " 48324.0,\n",
       " 50021.0,\n",
       " 23170.0,\n",
       " 12320.0]"
      ]
     },
     "execution_count": 7,
     "metadata": {},
     "output_type": "execute_result"
    }
   ],
   "source": [
    "owner_list[0:10]"
   ]
  },
  {
   "cell_type": "code",
   "execution_count": 8,
   "id": "general-pennsylvania",
   "metadata": {},
   "outputs": [],
   "source": [
    "#Here is where we create our random sample of owners. After testing the sample size in the last line of code,\n",
    "#changing the owner size to 430 gave us a reasonably sized file of about 258 MB.\n",
    "\n",
    "owner_sample = random.sample(owner_list,430)"
   ]
  },
  {
   "cell_type": "code",
   "execution_count": 9,
   "id": "english-volume",
   "metadata": {},
   "outputs": [],
   "source": [
    "#Start of the query for creating our file of transactions per owner. This is not yet a complete query, we're going to add \n",
    "#to it in the following lines. Essentially, the goal here is to create a loop that iterates over each ownerID in the\n",
    "#owner sample and add it to the query. The IN statement is a way of testing if an expression matches a value. In this case,\n",
    "#the IN command will be bringing in all transaction records with owner ID's that are listed. Since we're looping over the\n",
    "#owner list and adding every owner ID, this will bring in every owner on the list.\n",
    "\n",
    "owner_transactions = '''SELECT * \n",
    "FROM `cloughwedge2021.cloughwedge2021.transArchive*`\n",
    "WHERE Card_No IN('''"
   ]
  },
  {
   "cell_type": "code",
   "execution_count": 10,
   "id": "equivalent-cancer",
   "metadata": {},
   "outputs": [],
   "source": [
    "#Iterate over the owner sample list, which does not contain non-owners, and add their owner number to the query.\n",
    "\n",
    "for owner in owner_sample:\n",
    "    owner_transactions += str(owner)+','"
   ]
  },
  {
   "cell_type": "code",
   "execution_count": 11,
   "id": "sitting-shaft",
   "metadata": {},
   "outputs": [],
   "source": [
    "#Finish writing the query by adding a parenthesis after the last character to end the IN statement\n",
    "\n",
    "owner_transactions = owner_transactions[:-1]+')'"
   ]
  },
  {
   "cell_type": "code",
   "execution_count": 12,
   "id": "raised-bedroom",
   "metadata": {},
   "outputs": [],
   "source": [
    "random_transactions = client.query(owner_transactions,location=\"US\")"
   ]
  },
  {
   "cell_type": "code",
   "execution_count": 13,
   "id": "developed-converter",
   "metadata": {},
   "outputs": [
    {
     "name": "stdout",
     "output_type": "stream",
     "text": [
      "2016-06-04 13:25:59+00:00\t6.0\t97.0\t75.0\t0007468210761\tO.Grapefruit Juice 32oz Knu\tI\t \t \t1.0\t1.0\t0.0\t2.853\t3.39\t3.39\t4.39\tNone\t0.0\t0.0\t1.0\t0.0\t1.0\t0.0\t1.0\t1.0\t0.0\t10.0\t1.0\t0.0\t0.0\t0.0\t0.0\t0.0\tFalse\tTrue\t0.0\t0.0\t0.0\tNone\tNone\tTrue\t0.0\t1.0\tTrue\t0.0\t13364.0\t1.0\t0.0\t0.0\t45.0\n"
     ]
    }
   ],
   "source": [
    "#This is just one record and I did this to see what the query was bringing in. Seems like it's bringing in the data\n",
    "#correctly\n",
    "for transactions in random_transactions:\n",
    "    print('\\t'.join([str(x) for x in transactions]))\n",
    "    break"
   ]
  },
  {
   "cell_type": "code",
   "execution_count": 14,
   "id": "increased-values",
   "metadata": {},
   "outputs": [],
   "source": [
    "headers = ['DateTime', 'Register_Num','Emp_Num',\"Trans_Num\", \"UPC\",\"Description\",'Trans_Type',\"Trans_SubType\",'Trans_Status',\n",
    "           'Department','Quantity','Scale','Cost','Unit_Price','Total','Reg_Price','Alt_Price','Tax',\n",
    "           \"TaxExempt\",'Foodstamp','WicAble','Discount','memDiscount','Discountable','DiscountType',\n",
    "           'Voided','PercentDiscount','ItemQtty','volDiscType','Volume','VolSpecial','mixMatch','Matched',\n",
    "           'MemType','Staff','NumFlag','itemStatus','TenderStatus','CharFlag','varflag','BatchHeaderID','Local',\n",
    "           'Organic','Display','Receipt','Card_No','Store','Branch','Match_ID','Trans_ID']"
   ]
  },
  {
   "cell_type": "code",
   "execution_count": 17,
   "id": "automotive-facing",
   "metadata": {},
   "outputs": [],
   "source": [
    "#Write the data to a file. I thought it would be nice to include an error trap to see if the file already existed.\n",
    "\n",
    "if os.path.exists(\"sample_of_owners.txt\"):\n",
    "    print('this file already exists!')\n",
    "else:\n",
    "    with open(\"sample_of_owners.txt\", 'w', encoding = \"utf-8\") as outfile:\n",
    "        outfile.write(\",\".join(headers) + \"\\n\")\n",
    "        for row in random_transactions:\n",
    "            outfile.write(\",\".join([str(x) for x in row])+ '\\n')"
   ]
  },
  {
   "cell_type": "code",
   "execution_count": 18,
   "id": "controlled-freedom",
   "metadata": {},
   "outputs": [
    {
     "name": "stdout",
     "output_type": "stream",
     "text": [
      "258.7 MB\n"
     ]
    }
   ],
   "source": [
    "size = os.stat('sample_of_owners.txt').st_size\n",
    "\n",
    "print(naturalsize(size))"
   ]
  }
 ],
 "metadata": {
  "kernelspec": {
   "display_name": "Python 3 (ipykernel)",
   "language": "python",
   "name": "python3"
  },
  "language_info": {
   "codemirror_mode": {
    "name": "ipython",
    "version": 3
   },
   "file_extension": ".py",
   "mimetype": "text/x-python",
   "name": "python",
   "nbconvert_exporter": "python",
   "pygments_lexer": "ipython3",
   "version": "3.10.2"
  }
 },
 "nbformat": 4,
 "nbformat_minor": 5
}
